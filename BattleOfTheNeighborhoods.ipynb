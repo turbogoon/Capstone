{
 "cells": [
  {
   "cell_type": "markdown",
   "metadata": {},
   "source": [
    "# Week 1\n",
    "\n",
    "## The Problem\n",
    "\n",
    "Detroit, Michigan went through one of the roughest economic recissions and housing crisises in the U.S. back in 2008. As of 2019 the city is rebounding faster than ever. Neighborhoods that were high crime now hold multi-million dollar condo developments thanks to reinvestment. Detroit is becoming the go to place for tech companies such as Google, Amazon, Microsoft, and IBM. While the market continues to grow so does finding a place to live and have entertainment(aka the 3rd place).\n",
    "\n",
    "## The Data\n",
    "\n",
    "Using Foursquare data we will explore the neighborhoods of Detroit, find an affordable place to call home, and an area to have fun in. I believe using this data we will be able to help visitors and new-comers in Detroit understand where to go."
   ]
  },
  {
   "cell_type": "code",
   "execution_count": null,
   "metadata": {},
   "outputs": [],
   "source": []
  }
 ],
 "metadata": {
  "kernelspec": {
   "display_name": "Python 3",
   "language": "python",
   "name": "python3"
  },
  "language_info": {
   "codemirror_mode": {
    "name": "ipython",
    "version": 3
   },
   "file_extension": ".py",
   "mimetype": "text/x-python",
   "name": "python",
   "nbconvert_exporter": "python",
   "pygments_lexer": "ipython3",
   "version": "3.7.4"
  }
 },
 "nbformat": 4,
 "nbformat_minor": 2
}
